{
 "cells": [
  {
   "cell_type": "markdown",
   "metadata": {},
   "source": [
    "## Análisis de la cantidad de repeticiones de una palabra en un texto"
   ]
  },
  {
   "cell_type": "code",
   "execution_count": 36,
   "metadata": {},
   "outputs": [],
   "source": [
    "# imports\n",
    "import collections\n",
    "from pprint import pprint"
   ]
  },
  {
   "cell_type": "markdown",
   "metadata": {},
   "source": [
    "#### Texto a analizar"
   ]
  },
  {
   "cell_type": "code",
   "execution_count": 60,
   "metadata": {},
   "outputs": [],
   "source": [
    "file = open('98-0.txt')"
   ]
  },
  {
   "cell_type": "markdown",
   "metadata": {},
   "source": [
    "#### Diccionario donde almacenar la cuenta de las palabras"
   ]
  },
  {
   "cell_type": "code",
   "execution_count": 61,
   "metadata": {},
   "outputs": [],
   "source": [
    "wordcount = {}"
   ]
  },
  {
   "cell_type": "markdown",
   "metadata": {},
   "source": [
    "#### Recorrer cada una de las palabras del texto, eliminando espacios en blanco y carácteres especiales"
   ]
  },
  {
   "cell_type": "code",
   "execution_count": 62,
   "metadata": {},
   "outputs": [],
   "source": [
    "for word in file.read().lower().split():\n",
    "    word = word.replace(\".\", \"\")\n",
    "    word = word.replace(\",\", \"\")\n",
    "    word = word.replace(\";\", \"\")\n",
    "    word = word.replace(\"\\\"\", \"\")\n",
    "    word = word.replace(\"“\", \"\")\n",
    "    word = word.replace(\"”\", \"\")\n",
    "    word = word.replace(\"#\", \"\")\n",
    "    word = word.replace(\"(\", \"\")\n",
    "    word = word.replace(\")\", \"\")\n",
    "    word = word.replace(\"$\", \"\")\n",
    "    word = word.replace(\"*\", \"\")\n",
    "    word = word.replace(\"-\", \"\")\n",
    "    word = word.replace(\"\\\\\", \"\")\n",
    "    word = word.replace(\"’\", \"\")\n",
    "    word = word.replace(\"!\", \"\")\n",
    "    word = word.replace(\"?\", \"\")\n",
    "    if word not in wordcount:\n",
    "        wordcount[word] = 1\n",
    "    else:\n",
    "        wordcount[word] += 1"
   ]
  },
  {
   "cell_type": "markdown",
   "metadata": {},
   "source": [
    "#### Ordeno de mayor a menor las palabras mas coincidentes"
   ]
  },
  {
   "cell_type": "code",
   "execution_count": 67,
   "metadata": {},
   "outputs": [
    {
     "name": "stdout",
     "output_type": "stream",
     "text": [
      "[('the', 8188),\n",
      " ('and', 4993),\n",
      " ('of', 4133),\n",
      " ('to', 3542),\n",
      " ('a', 2977),\n",
      " ('in', 2633),\n",
      " ('it', 2013),\n",
      " ('his', 2002),\n",
      " ('that', 1897),\n",
      " ('i', 1889)]\n"
     ]
    }
   ],
   "source": [
    "d = collections.Counter(wordcount)\n",
    "pprint(d.most_common(10))"
   ]
  }
 ],
 "metadata": {
  "kernelspec": {
   "display_name": "Python 3",
   "language": "python",
   "name": "python3"
  },
  "language_info": {
   "codemirror_mode": {
    "name": "ipython",
    "version": 3
   },
   "file_extension": ".py",
   "mimetype": "text/x-python",
   "name": "python",
   "nbconvert_exporter": "python",
   "pygments_lexer": "ipython3",
   "version": "3.6.5"
  }
 },
 "nbformat": 4,
 "nbformat_minor": 2
}
