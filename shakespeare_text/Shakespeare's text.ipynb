{
 "cells": [
  {
   "cell_type": "markdown",
   "metadata": {},
   "source": [
    "# UNIX commands for Data Science"
   ]
  },
  {
   "cell_type": "markdown",
   "metadata": {},
   "source": [
    "### Find the path for the 'shakespeare.txt' file"
   ]
  },
  {
   "cell_type": "code",
   "execution_count": 1,
   "metadata": {},
   "outputs": [
    {
     "name": "stdout",
     "output_type": "stream",
     "text": [
      "total 10952\r\n",
      "drwxrwxr-x 3 sergio sergio    4096 oct 12 20:08  .\r\n",
      "drwxrwxr-x 7 sergio sergio    4096 oct 12 19:26  ..\r\n",
      "-rw-rw-r-- 1 sergio sergio     167 oct 12 19:57  count_words.txt\r\n",
      "drwxrwxr-x 2 sergio sergio    4096 oct 12 20:08  .ipynb_checkpoints\r\n",
      "-rw-rw-r-- 1 sergio sergio   20697 oct 12 20:08 \"Shakespeare's text.ipynb\"\r\n",
      "-rw-r--r-- 1 sergio sergio 5583442 oct 12 19:29  shakespeare.txt\r\n",
      "-rw-rw-r-- 1 sergio sergio 5583442 oct 12 19:45  temp.txt\r\n"
     ]
    }
   ],
   "source": [
    "!ls -la"
   ]
  },
  {
   "cell_type": "markdown",
   "metadata": {},
   "source": [
    "### Variable declaration"
   ]
  },
  {
   "cell_type": "code",
   "execution_count": 2,
   "metadata": {},
   "outputs": [
    {
     "name": "stdout",
     "output_type": "stream",
     "text": [
      "./shakespeare.txt\n",
      "./shakespeare.txt\n"
     ]
    }
   ],
   "source": [
    "speare_file = \"./shakespeare.txt\"\n",
    "!echo $speare_file # UNIX lenguage\n",
    "print(speare_file) # python lenguage"
   ]
  },
  {
   "cell_type": "markdown",
   "metadata": {},
   "source": [
    "### First 5 lines of the file"
   ]
  },
  {
   "cell_type": "code",
   "execution_count": 3,
   "metadata": {},
   "outputs": [
    {
     "name": "stdout",
     "output_type": "stream",
     "text": [
      "This is the 100th Etext file presented by Project Gutenberg, and\r",
      "\r\n",
      "is presented in cooperation with World Library, Inc., from their\r",
      "\r\n",
      "Library of the Future and Shakespeare CDROMS.  Project Gutenberg\r",
      "\r\n",
      "often releases Etexts that are NOT placed in the Public Domain!!\r",
      "\r\n",
      "\r",
      "\r\n"
     ]
    }
   ],
   "source": [
    "!head -n 5 $speare_file"
   ]
  },
  {
   "cell_type": "markdown",
   "metadata": {},
   "source": [
    "### Last 5 lines of the file"
   ]
  },
  {
   "cell_type": "code",
   "execution_count": 4,
   "metadata": {},
   "outputs": [
    {
     "name": "stdout",
     "output_type": "stream",
     "text": [
      "\r",
      "\r\n",
      "End of this Etext of The Complete Works of William Shakespeare\r",
      "\r\n",
      "\r",
      "\r\n",
      "\r",
      "\r\n",
      "\r",
      "\r\n"
     ]
    }
   ],
   "source": [
    "!tail -n 5 $speare_file"
   ]
  },
  {
   "cell_type": "markdown",
   "metadata": {},
   "source": [
    "### Total lines of the file"
   ]
  },
  {
   "cell_type": "code",
   "execution_count": 5,
   "metadata": {},
   "outputs": [
    {
     "name": "stdout",
     "output_type": "stream",
     "text": [
      "124505 ./shakespeare.txt\r\n"
     ]
    }
   ],
   "source": [
    "!wc -l $speare_file"
   ]
  },
  {
   "cell_type": "markdown",
   "metadata": {},
   "source": [
    "### Filter the file by the word \"incredible\" "
   ]
  },
  {
   "cell_type": "code",
   "execution_count": 6,
   "metadata": {},
   "outputs": [
    {
     "name": "stdout",
     "output_type": "stream",
     "text": [
      "    I tell you 'tis incredible to believe.\r",
      "\r\n"
     ]
    }
   ],
   "source": [
    "!grep -i \"incredible\" $speare_file"
   ]
  },
  {
   "cell_type": "markdown",
   "metadata": {},
   "source": [
    "### Output matching pattern one per line and the count number of lines"
   ]
  },
  {
   "cell_type": "code",
   "execution_count": 7,
   "metadata": {},
   "outputs": [
    {
     "name": "stdout",
     "output_type": "stream",
     "text": [
      "358\r\n"
     ]
    }
   ],
   "source": [
    "!cat $speare_file | grep -o \"home\" | wc -l"
   ]
  },
  {
   "cell_type": "markdown",
   "metadata": {},
   "source": [
    "### Replace all istances of 'liberty' to 'slavery'"
   ]
  },
  {
   "cell_type": "code",
   "execution_count": 8,
   "metadata": {},
   "outputs": [],
   "source": [
    "!sed -e \"s/liberty/slavery/g\" $speare_file > temp.txt"
   ]
  },
  {
   "cell_type": "code",
   "execution_count": 9,
   "metadata": {},
   "outputs": [
    {
     "name": "stdout",
     "output_type": "stream",
     "text": [
      "total 10952\r\n",
      "drwxrwxr-x 3 sergio sergio    4096 oct 12 20:08  .\r\n",
      "drwxrwxr-x 7 sergio sergio    4096 oct 12 19:26  ..\r\n",
      "-rw-rw-r-- 1 sergio sergio     167 oct 12 19:57  count_words.txt\r\n",
      "drwxrwxr-x 2 sergio sergio    4096 oct 12 20:08  .ipynb_checkpoints\r\n",
      "-rw-rw-r-- 1 sergio sergio   20697 oct 12 20:08 \"Shakespeare's text.ipynb\"\r\n",
      "-rw-r--r-- 1 sergio sergio 5583442 oct 12 19:29  shakespeare.txt\r\n",
      "-rw-rw-r-- 1 sergio sergio 5583442 oct 12 20:09  temp.txt\r\n"
     ]
    }
   ],
   "source": [
    "\n",
    "!ls -la"
   ]
  },
  {
   "cell_type": "markdown",
   "metadata": {},
   "source": [
    "### Count most frequent words in the Shakspeare's text"
   ]
  },
  {
   "cell_type": "code",
   "execution_count": 10,
   "metadata": {},
   "outputs": [
    {
     "name": "stdout",
     "output_type": "stream",
     "text": [
      "sort: error al escribir: 'salida estándar': Tubería rota\n",
      "sort: error de escritura\n",
      " 502289 \n",
      "  22678 the\n",
      "  19163 I\n",
      "  17868 and\n",
      "  15324 to\n",
      "  15216 of\n",
      "  14779 \n",
      "  12152 a\n",
      "  10614 my\n",
      "   9347 in\n",
      "   8709 you\n",
      "   7662 is\n",
      "   7332 that\n",
      "   7065 And\n",
      "   6737 not\n"
     ]
    }
   ],
   "source": [
    "!sed -e 's/ /\\n/g' < $speare_file | sort | uniq -c | sort -nr | head -15 > count_words.txt\n",
    "!cat count_words.txt"
   ]
  },
  {
   "cell_type": "markdown",
   "metadata": {},
   "source": [
    "### Plot by importing word counts into Python"
   ]
  },
  {
   "cell_type": "code",
   "execution_count": 11,
   "metadata": {},
   "outputs": [],
   "source": [
    "%matplotlib inline"
   ]
  },
  {
   "cell_type": "code",
   "execution_count": 12,
   "metadata": {},
   "outputs": [
    {
     "data": {
      "image/png": "[encoded data removed]",
      "text/plain": [
       "<Figure size 720x432 with 1 Axes>"
      ]
     },
     "metadata": {
      "needs_background": "light"
     },
     "output_type": "display_data"
    }
   ],
   "source": [
    "import matplotlib.pyplot as plt\n",
    "import csv\n",
    "\n",
    "xTicks = []\n",
    "y = []\n",
    "\n",
    "with open('count_words.txt', 'r') as csvfile:\n",
    "    plots = csv.reader(csvfile, delimiter=' ')\n",
    "    for row in plots:\n",
    "        y.append(int(row[-2]))\n",
    "        xTicks.append(str(row[-1]))\n",
    "        \n",
    "# remove the count of spaces\n",
    "y = y[1:]\n",
    "xTicks = xTicks[1:]\n",
    "\n",
    "# plot\n",
    "x = range(len(y))\n",
    "plt.figure(figsize=(10, 6)) # width x height\n",
    "plt.xticks(x, xTicks, rotation=90) # rotation of the labels on x axis\n",
    "plt.plot(x, y, '*')\n",
    "plt.show()"
   ]
  }
 ],
 "metadata": {
  "kernelspec": {
   "display_name": "Python 3",
   "language": "python",
   "name": "python3"
  },
  "language_info": {
   "codemirror_mode": {
    "name": "ipython",
    "version": 3
   },
   "file_extension": ".py",
   "mimetype": "text/x-python",
   "name": "python",
   "nbconvert_exporter": "python",
   "pygments_lexer": "ipython3",
   "version": "3.6.5"
  }
 },
 "nbformat": 4,
 "nbformat_minor": 2
}
