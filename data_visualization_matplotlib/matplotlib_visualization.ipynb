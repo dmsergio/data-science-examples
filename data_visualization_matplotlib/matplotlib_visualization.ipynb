{
 "cells": [
  {
   "cell_type": "markdown",
   "metadata": {},
   "source": [
    "### imports"
   ]
  },
  {
   "cell_type": "code",
   "execution_count": 1,
   "metadata": {},
   "outputs": [],
   "source": [
    "import pandas as pd\n",
    "import numpy as np\n",
    "import random\n",
    "import matplotlib.pyplot as plt"
   ]
  },
  {
   "cell_type": "code",
   "execution_count": 2,
   "metadata": {},
   "outputs": [
    {
     "data": {
      "text/plain": [
       "(7672338, 7)"
      ]
     },
     "execution_count": 2,
     "metadata": {},
     "output_type": "execute_result"
    }
   ],
   "source": [
    "# data = pd.read_csv('./world-development-indicators/WDIData.csv', sep=',')\n",
    "data = pd.read_csv('./world-development-indicators/WDIData_bis.csv', sep=',')\n",
    "data.shape"
   ]
  },
  {
   "cell_type": "code",
   "execution_count": 3,
   "metadata": {},
   "outputs": [
    {
     "data": {
      "text/html": [
       "<div>\n",
       "<style scoped>\n",
       "    .dataframe tbody tr th:only-of-type {\n",
       "        vertical-align: middle;\n",
       "    }\n",
       "\n",
       "    .dataframe tbody tr th {\n",
       "        vertical-align: top;\n",
       "    }\n",
       "\n",
       "    .dataframe thead th {\n",
       "        text-align: right;\n",
       "    }\n",
       "</style>\n",
       "<table border=\"1\" class=\"dataframe\">\n",
       "  <thead>\n",
       "    <tr style=\"text-align: right;\">\n",
       "      <th></th>\n",
       "      <th>Unnamed: 0</th>\n",
       "      <th>CountryCode</th>\n",
       "      <th>CountryName</th>\n",
       "      <th>IndicatorCode</th>\n",
       "      <th>IndicatorName</th>\n",
       "      <th>Value</th>\n",
       "      <th>Year</th>\n",
       "    </tr>\n",
       "  </thead>\n",
       "  <tbody>\n",
       "    <tr>\n",
       "      <th>0</th>\n",
       "      <td>0</td>\n",
       "      <td>ARB</td>\n",
       "      <td>Arab World</td>\n",
       "      <td>EG.CFT.ACCS.ZS</td>\n",
       "      <td>Access to clean fuels and technologies for coo...</td>\n",
       "      <td>73.675898</td>\n",
       "      <td>2000</td>\n",
       "    </tr>\n",
       "    <tr>\n",
       "      <th>1</th>\n",
       "      <td>1</td>\n",
       "      <td>ARB</td>\n",
       "      <td>Arab World</td>\n",
       "      <td>EG.CFT.ACCS.ZS</td>\n",
       "      <td>Access to clean fuels and technologies for coo...</td>\n",
       "      <td>74.928059</td>\n",
       "      <td>2001</td>\n",
       "    </tr>\n",
       "    <tr>\n",
       "      <th>2</th>\n",
       "      <td>2</td>\n",
       "      <td>ARB</td>\n",
       "      <td>Arab World</td>\n",
       "      <td>EG.CFT.ACCS.ZS</td>\n",
       "      <td>Access to clean fuels and technologies for coo...</td>\n",
       "      <td>76.255400</td>\n",
       "      <td>2002</td>\n",
       "    </tr>\n",
       "    <tr>\n",
       "      <th>3</th>\n",
       "      <td>3</td>\n",
       "      <td>ARB</td>\n",
       "      <td>Arab World</td>\n",
       "      <td>EG.CFT.ACCS.ZS</td>\n",
       "      <td>Access to clean fuels and technologies for coo...</td>\n",
       "      <td>77.129805</td>\n",
       "      <td>2003</td>\n",
       "    </tr>\n",
       "    <tr>\n",
       "      <th>4</th>\n",
       "      <td>4</td>\n",
       "      <td>ARB</td>\n",
       "      <td>Arab World</td>\n",
       "      <td>EG.CFT.ACCS.ZS</td>\n",
       "      <td>Access to clean fuels and technologies for coo...</td>\n",
       "      <td>78.114145</td>\n",
       "      <td>2004</td>\n",
       "    </tr>\n",
       "  </tbody>\n",
       "</table>\n",
       "</div>"
      ],
      "text/plain": [
       "   Unnamed: 0 CountryCode CountryName   IndicatorCode  \\\n",
       "0           0         ARB  Arab World  EG.CFT.ACCS.ZS   \n",
       "1           1         ARB  Arab World  EG.CFT.ACCS.ZS   \n",
       "2           2         ARB  Arab World  EG.CFT.ACCS.ZS   \n",
       "3           3         ARB  Arab World  EG.CFT.ACCS.ZS   \n",
       "4           4         ARB  Arab World  EG.CFT.ACCS.ZS   \n",
       "\n",
       "                                       IndicatorName      Value  Year  \n",
       "0  Access to clean fuels and technologies for coo...  73.675898  2000  \n",
       "1  Access to clean fuels and technologies for coo...  74.928059  2001  \n",
       "2  Access to clean fuels and technologies for coo...  76.255400  2002  \n",
       "3  Access to clean fuels and technologies for coo...  77.129805  2003  \n",
       "4  Access to clean fuels and technologies for coo...  78.114145  2004  "
      ]
     },
     "execution_count": 3,
     "metadata": {},
     "output_type": "execute_result"
    }
   ],
   "source": [
    "data.head()"
   ]
  },
  {
   "cell_type": "markdown",
   "metadata": {},
   "source": [
    "### Count of countries?"
   ]
  },
  {
   "cell_type": "code",
   "execution_count": 4,
   "metadata": {},
   "outputs": [
    {
     "data": {
      "text/plain": [
       "263"
      ]
     },
     "execution_count": 4,
     "metadata": {},
     "output_type": "execute_result"
    }
   ],
   "source": [
    "countries = data['CountryName'].unique().tolist()\n",
    "len(countries)"
   ]
  },
  {
   "cell_type": "markdown",
   "metadata": {},
   "source": [
    "### Count of countries code?"
   ]
  },
  {
   "cell_type": "code",
   "execution_count": 5,
   "metadata": {},
   "outputs": [
    {
     "data": {
      "text/plain": [
       "263"
      ]
     },
     "execution_count": 5,
     "metadata": {},
     "output_type": "execute_result"
    }
   ],
   "source": [
    "countries_code = data['CountryCode'].unique().tolist()\n",
    "len(countries_code)"
   ]
  },
  {
   "cell_type": "markdown",
   "metadata": {},
   "source": [
    "### Count of indicators?"
   ]
  },
  {
   "cell_type": "code",
   "execution_count": 6,
   "metadata": {},
   "outputs": [
    {
     "data": {
      "text/plain": [
       "1585"
      ]
     },
     "execution_count": 6,
     "metadata": {},
     "output_type": "execute_result"
    }
   ],
   "source": [
    "indicators = data['IndicatorCode'].unique().tolist()\n",
    "len(indicators)"
   ]
  },
  {
   "cell_type": "markdown",
   "metadata": {},
   "source": [
    "### Remodel DataFrame"
   ]
  },
  {
   "cell_type": "code",
   "execution_count": 7,
   "metadata": {},
   "outputs": [],
   "source": [
    "# d = []\n",
    "# for index, row in data.iterrows():\n",
    "#     for i in range(1969, 2017):\n",
    "#         if not pd.isna(row[str(i)]):\n",
    "#             d.append({\n",
    "#                 'CountryName': row['Country Name'],\n",
    "#                 'CountryCode': row['Country Code'],\n",
    "#                 'IndicatorName': row['Indicator Name'],\n",
    "#                 'IndicatorCode': row['Indicator Code'],\n",
    "#                 'Year': str(i),\n",
    "#                 'Value': row[str(i)]})\n",
    "# pd = pd.DataFrame(d)"
   ]
  },
  {
   "cell_type": "code",
   "execution_count": 8,
   "metadata": {},
   "outputs": [],
   "source": [
    "# pd.head()\n",
    "# pd.shape"
   ]
  },
  {
   "cell_type": "code",
   "execution_count": 9,
   "metadata": {},
   "outputs": [],
   "source": [
    "# pd.to_csv('./world-development-indicators/WDIData_bis.csv', sep=',', encoding='utf-8')"
   ]
  },
  {
   "cell_type": "markdown",
   "metadata": {},
   "source": [
    "### How many years of data do we have?"
   ]
  },
  {
   "cell_type": "code",
   "execution_count": 10,
   "metadata": {},
   "outputs": [
    {
     "data": {
      "text/plain": [
       "48"
      ]
     },
     "execution_count": 10,
     "metadata": {},
     "output_type": "execute_result"
    }
   ],
   "source": [
    "years = data['Year'].unique().tolist()\n",
    "len(years)"
   ]
  },
  {
   "cell_type": "markdown",
   "metadata": {},
   "source": [
    "### What's the range of years?"
   ]
  },
  {
   "cell_type": "code",
   "execution_count": 11,
   "metadata": {},
   "outputs": [
    {
     "name": "stdout",
     "output_type": "stream",
     "text": [
      "Minimal year is: 1969\n",
      "Maximun year is: 2016\n"
     ]
    }
   ],
   "source": [
    "print(\"Minimal year is: {0}\\nMaximun year is: {1}\".format(min(years), max(years)))"
   ]
  },
  {
   "cell_type": "markdown",
   "metadata": {},
   "source": [
    "<h2 style=\"color: #2A738B\">Matplotlib: Basic Plotting</h2"
   ]
  },
  {
   "cell_type": "markdown",
   "metadata": {},
   "source": [
    "### Explore CO2 emissions per capita in Spain"
   ]
  },
  {
   "cell_type": "code",
   "execution_count": 12,
   "metadata": {},
   "outputs": [],
   "source": [
    "# select CO2 emissions for the Spain\n",
    "hist_indicator = 'CO2 emissions \\(metric'\n",
    "hist_country = 'ESP'\n",
    "\n",
    "mask1 = data['IndicatorName'].str.contains(hist_indicator)\n",
    "mask2 = data['CountryCode'].str.contains(hist_country)\n",
    "\n",
    "# stage is just those indicators matching the ESP for country code and CO2 emissions indicator\n",
    "stage = data[mask1 & mask2]"
   ]
  },
  {
   "cell_type": "code",
   "execution_count": 13,
   "metadata": {},
   "outputs": [
    {
     "data": {
      "text/html": [
       "<div>\n",
       "<style scoped>\n",
       "    .dataframe tbody tr th:only-of-type {\n",
       "        vertical-align: middle;\n",
       "    }\n",
       "\n",
       "    .dataframe tbody tr th {\n",
       "        vertical-align: top;\n",
       "    }\n",
       "\n",
       "    .dataframe thead th {\n",
       "        text-align: right;\n",
       "    }\n",
       "</style>\n",
       "<table border=\"1\" class=\"dataframe\">\n",
       "  <thead>\n",
       "    <tr style=\"text-align: right;\">\n",
       "      <th></th>\n",
       "      <th>Unnamed: 0</th>\n",
       "      <th>CountryCode</th>\n",
       "      <th>CountryName</th>\n",
       "      <th>IndicatorCode</th>\n",
       "      <th>IndicatorName</th>\n",
       "      <th>Value</th>\n",
       "      <th>Year</th>\n",
       "    </tr>\n",
       "  </thead>\n",
       "  <tbody>\n",
       "    <tr>\n",
       "      <th>6551626</th>\n",
       "      <td>6551626</td>\n",
       "      <td>ESP</td>\n",
       "      <td>Spain</td>\n",
       "      <td>EN.ATM.CO2E.PC</td>\n",
       "      <td>CO2 emissions (metric tons per capita)</td>\n",
       "      <td>2.897102</td>\n",
       "      <td>1969</td>\n",
       "    </tr>\n",
       "    <tr>\n",
       "      <th>6551627</th>\n",
       "      <td>6551627</td>\n",
       "      <td>ESP</td>\n",
       "      <td>Spain</td>\n",
       "      <td>EN.ATM.CO2E.PC</td>\n",
       "      <td>CO2 emissions (metric tons per capita)</td>\n",
       "      <td>3.457970</td>\n",
       "      <td>1970</td>\n",
       "    </tr>\n",
       "    <tr>\n",
       "      <th>6551628</th>\n",
       "      <td>6551628</td>\n",
       "      <td>ESP</td>\n",
       "      <td>Spain</td>\n",
       "      <td>EN.ATM.CO2E.PC</td>\n",
       "      <td>CO2 emissions (metric tons per capita)</td>\n",
       "      <td>3.759950</td>\n",
       "      <td>1971</td>\n",
       "    </tr>\n",
       "    <tr>\n",
       "      <th>6551629</th>\n",
       "      <td>6551629</td>\n",
       "      <td>ESP</td>\n",
       "      <td>Spain</td>\n",
       "      <td>EN.ATM.CO2E.PC</td>\n",
       "      <td>CO2 emissions (metric tons per capita)</td>\n",
       "      <td>4.190967</td>\n",
       "      <td>1972</td>\n",
       "    </tr>\n",
       "    <tr>\n",
       "      <th>6551630</th>\n",
       "      <td>6551630</td>\n",
       "      <td>ESP</td>\n",
       "      <td>Spain</td>\n",
       "      <td>EN.ATM.CO2E.PC</td>\n",
       "      <td>CO2 emissions (metric tons per capita)</td>\n",
       "      <td>4.440463</td>\n",
       "      <td>1973</td>\n",
       "    </tr>\n",
       "  </tbody>\n",
       "</table>\n",
       "</div>"
      ],
      "text/plain": [
       "         Unnamed: 0 CountryCode CountryName   IndicatorCode  \\\n",
       "6551626     6551626         ESP       Spain  EN.ATM.CO2E.PC   \n",
       "6551627     6551627         ESP       Spain  EN.ATM.CO2E.PC   \n",
       "6551628     6551628         ESP       Spain  EN.ATM.CO2E.PC   \n",
       "6551629     6551629         ESP       Spain  EN.ATM.CO2E.PC   \n",
       "6551630     6551630         ESP       Spain  EN.ATM.CO2E.PC   \n",
       "\n",
       "                                  IndicatorName     Value  Year  \n",
       "6551626  CO2 emissions (metric tons per capita)  2.897102  1969  \n",
       "6551627  CO2 emissions (metric tons per capita)  3.457970  1970  \n",
       "6551628  CO2 emissions (metric tons per capita)  3.759950  1971  \n",
       "6551629  CO2 emissions (metric tons per capita)  4.190967  1972  \n",
       "6551630  CO2 emissions (metric tons per capita)  4.440463  1973  "
      ]
     },
     "execution_count": 13,
     "metadata": {},
     "output_type": "execute_result"
    }
   ],
   "source": [
    "stage.head()"
   ]
  },
  {
   "cell_type": "markdown",
   "metadata": {},
   "source": [
    "### Let's see how emissions have changed over time using MatplotLib"
   ]
  },
  {
   "cell_type": "code",
   "execution_count": 14,
   "metadata": {},
   "outputs": [
    {
     "data": {
      "image/png": "[encoded data removed]",
      "text/plain": [
       "<Figure size 432x288 with 1 Axes>"
      ]
     },
     "metadata": {
      "needs_background": "light"
     },
     "output_type": "display_data"
    }
   ],
   "source": [
    "# get the years\n",
    "years = stage['Year'].values\n",
    "# get the values\n",
    "co2 = stage['Value'].values\n",
    "\n",
    "# create the graphic\n",
    "plt.bar(years, co2)\n",
    "plt.show()"
   ]
  },
  {
   "cell_type": "markdown",
   "metadata": {},
   "source": [
    "### Let's do it a bit more appealing..."
   ]
  },
  {
   "cell_type": "code",
   "execution_count": 15,
   "metadata": {},
   "outputs": [
    {
     "data": {
      "image/png": "[encoded data removed]",
      "text/plain": [
       "<Figure size 432x288 with 1 Axes>"
      ]
     },
     "metadata": {
      "needs_background": "light"
     },
     "output_type": "display_data"
    }
   ],
   "source": [
    "# swith to a line plot\n",
    "plt.plot(years, co2)\n",
    "\n",
    "# set label for the axes\n",
    "plt.xlabel('Year')\n",
    "plt.ylabel(stage['IndicatorName'].iloc[0])\n",
    "\n",
    "# label the figure\n",
    "plt.title('CO2 Emissions in SPAIN')\n",
    "\n",
    "# to make more honest, start they y axis at 0\n",
    "plt.axis([1969, 2016, 0, 25])\n",
    "\n",
    "plt.grid()\n",
    "plt.show()"
   ]
  },
  {
   "cell_type": "markdown",
   "metadata": {},
   "source": [
    "### Histogram graph"
   ]
  },
  {
   "cell_type": "code",
   "execution_count": 16,
   "metadata": {},
   "outputs": [],
   "source": [
    "hist_data = stage['Value'].values"
   ]
  },
  {
   "cell_type": "code",
   "execution_count": 17,
   "metadata": {},
   "outputs": [
    {
     "data": {
      "text/plain": [
       "46"
      ]
     },
     "execution_count": 17,
     "metadata": {},
     "output_type": "execute_result"
    }
   ],
   "source": [
    "len(hist_data)"
   ]
  },
  {
   "cell_type": "code",
   "execution_count": 18,
   "metadata": {},
   "outputs": [
    {
     "data": {
      "image/png": "[encoded data removed]",
      "text/plain": [
       "<Figure size 432x288 with 1 Axes>"
      ]
     },
     "metadata": {
      "needs_background": "light"
     },
     "output_type": "display_data"
    }
   ],
   "source": [
    "# the histogram of the data\n",
    "plt.hist(hist_data, 10, density=False, facecolor='green')\n",
    "\n",
    "plt.xlabel(stage['IndicatorName'].iloc[0])\n",
    "plt.ylabel('# of Years')\n",
    "plt.title('Histogram Example')\n",
    "plt.grid(True)\n",
    "\n",
    "plt.show()"
   ]
  },
  {
   "cell_type": "markdown",
   "metadata": {},
   "source": [
    "### But, how do the Spain's numbers relate to those of other countries?"
   ]
  },
  {
   "cell_type": "code",
   "execution_count": 19,
   "metadata": {},
   "outputs": [
    {
     "data": {
      "text/html": [
       "<div>\n",
       "<style scoped>\n",
       "    .dataframe tbody tr th:only-of-type {\n",
       "        vertical-align: middle;\n",
       "    }\n",
       "\n",
       "    .dataframe tbody tr th {\n",
       "        vertical-align: top;\n",
       "    }\n",
       "\n",
       "    .dataframe thead th {\n",
       "        text-align: right;\n",
       "    }\n",
       "</style>\n",
       "<table border=\"1\" class=\"dataframe\">\n",
       "  <thead>\n",
       "    <tr style=\"text-align: right;\">\n",
       "      <th></th>\n",
       "      <th>Unnamed: 0</th>\n",
       "      <th>CountryCode</th>\n",
       "      <th>CountryName</th>\n",
       "      <th>IndicatorCode</th>\n",
       "      <th>IndicatorName</th>\n",
       "      <th>Value</th>\n",
       "      <th>Year</th>\n",
       "    </tr>\n",
       "  </thead>\n",
       "  <tbody>\n",
       "    <tr>\n",
       "      <th>3103</th>\n",
       "      <td>3103</td>\n",
       "      <td>ARB</td>\n",
       "      <td>Arab World</td>\n",
       "      <td>EN.ATM.CO2E.PC</td>\n",
       "      <td>CO2 emissions (metric tons per capita)</td>\n",
       "      <td>4.813631</td>\n",
       "      <td>2012</td>\n",
       "    </tr>\n",
       "    <tr>\n",
       "      <th>26291</th>\n",
       "      <td>26291</td>\n",
       "      <td>CSS</td>\n",
       "      <td>Caribbean small states</td>\n",
       "      <td>EN.ATM.CO2E.PC</td>\n",
       "      <td>CO2 emissions (metric tons per capita)</td>\n",
       "      <td>8.886378</td>\n",
       "      <td>2012</td>\n",
       "    </tr>\n",
       "    <tr>\n",
       "      <th>48245</th>\n",
       "      <td>48245</td>\n",
       "      <td>CEB</td>\n",
       "      <td>Central Europe and the Baltics</td>\n",
       "      <td>EN.ATM.CO2E.PC</td>\n",
       "      <td>CO2 emissions (metric tons per capita)</td>\n",
       "      <td>6.504367</td>\n",
       "      <td>2012</td>\n",
       "    </tr>\n",
       "    <tr>\n",
       "      <th>70675</th>\n",
       "      <td>70675</td>\n",
       "      <td>EAR</td>\n",
       "      <td>Early-demographic dividend</td>\n",
       "      <td>EN.ATM.CO2E.PC</td>\n",
       "      <td>CO2 emissions (metric tons per capita)</td>\n",
       "      <td>2.295943</td>\n",
       "      <td>2012</td>\n",
       "    </tr>\n",
       "    <tr>\n",
       "      <th>96906</th>\n",
       "      <td>96906</td>\n",
       "      <td>EAS</td>\n",
       "      <td>East Asia &amp; Pacific</td>\n",
       "      <td>EN.ATM.CO2E.PC</td>\n",
       "      <td>CO2 emissions (metric tons per capita)</td>\n",
       "      <td>6.307092</td>\n",
       "      <td>2012</td>\n",
       "    </tr>\n",
       "  </tbody>\n",
       "</table>\n",
       "</div>"
      ],
      "text/plain": [
       "       Unnamed: 0 CountryCode                     CountryName   IndicatorCode  \\\n",
       "3103         3103         ARB                      Arab World  EN.ATM.CO2E.PC   \n",
       "26291       26291         CSS          Caribbean small states  EN.ATM.CO2E.PC   \n",
       "48245       48245         CEB  Central Europe and the Baltics  EN.ATM.CO2E.PC   \n",
       "70675       70675         EAR      Early-demographic dividend  EN.ATM.CO2E.PC   \n",
       "96906       96906         EAS             East Asia & Pacific  EN.ATM.CO2E.PC   \n",
       "\n",
       "                                IndicatorName     Value  Year  \n",
       "3103   CO2 emissions (metric tons per capita)  4.813631  2012  \n",
       "26291  CO2 emissions (metric tons per capita)  8.886378  2012  \n",
       "48245  CO2 emissions (metric tons per capita)  6.504367  2012  \n",
       "70675  CO2 emissions (metric tons per capita)  2.295943  2012  \n",
       "96906  CO2 emissions (metric tons per capita)  6.307092  2012  "
      ]
     },
     "execution_count": 19,
     "metadata": {},
     "output_type": "execute_result"
    }
   ],
   "source": [
    "# select CO2 emissions for all countries in 2012\n",
    "hist_indicator = 'CO2 emissions \\(metric'\n",
    "hist_year = 2012\n",
    "\n",
    "mask1 = data['IndicatorName'].str.contains(hist_indicator)\n",
    "mask2 = data['Year'].isin([hist_year])\n",
    "\n",
    "# apply the mask\n",
    "co2_2012 = data[mask1 & mask2]\n",
    "co2_2012.head()"
   ]
  },
  {
   "cell_type": "code",
   "execution_count": 20,
   "metadata": {},
   "outputs": [
    {
     "data": {
      "text/plain": [
       "251"
      ]
     },
     "execution_count": 20,
     "metadata": {},
     "output_type": "execute_result"
    }
   ],
   "source": [
    "len(co2_2012)"
   ]
  },
  {
   "cell_type": "code",
   "execution_count": 21,
   "metadata": {},
   "outputs": [
    {
     "data": {
      "image/png": "[encoded data removed]",
      "text/plain": [
       "<Figure size 432x288 with 1 Axes>"
      ]
     },
     "metadata": {
      "needs_background": "light"
     },
     "output_type": "display_data"
    }
   ],
   "source": [
    "# Let's plt a histogram of the emissions per capita by country\n",
    "\n",
    "# subplots returns a touple with the figure, axis attributes.\n",
    "fig, ax = plt.subplots()\n",
    "\n",
    "ax.annotate(\n",
    "    'ESP',\n",
    "    xy=(18, 5), xycoords='data',\n",
    "    xytext=(18, 30), textcoords='data',\n",
    "    arrowprops=dict(arrowstyle=\"->\", connectionstyle=\"arc3\"))\n",
    "\n",
    "plt.hist(co2_2012['Value'], 10, density=False, facecolor='green')\n",
    "\n",
    "plt.xlabel(stage['IndicatorName'].iloc[0])\n",
    "plt.ylabel('# of Countries')\n",
    "plt.title('Histogram of CO2 Emissions Per Capita')\n",
    "plt.grid(True)\n",
    "\n",
    "plt.show()"
   ]
  },
  {
   "cell_type": "markdown",
   "metadata": {},
   "source": [
    "### Relationship between GPD and CO2 Emissions in Spain"
   ]
  },
  {
   "cell_type": "code",
   "execution_count": 22,
   "metadata": {},
   "outputs": [],
   "source": [
    "# select GPD per capita emissions for Spain\n",
    "hist_indicator = 'Coal rents \\(% of GDP\\)'\n",
    "hist_country = 'ESP'\n",
    "\n",
    "mask1 = data['IndicatorName'].str.contains(hist_indicator)\n",
    "mask2 = data['CountryCode'].str.contains(hist_country)\n",
    "\n",
    "gpd_stage = data[mask1 & mask2]"
   ]
  },
  {
   "cell_type": "code",
   "execution_count": 23,
   "metadata": {},
   "outputs": [
    {
     "data": {
      "text/html": [
       "<div>\n",
       "<style scoped>\n",
       "    .dataframe tbody tr th:only-of-type {\n",
       "        vertical-align: middle;\n",
       "    }\n",
       "\n",
       "    .dataframe tbody tr th {\n",
       "        vertical-align: top;\n",
       "    }\n",
       "\n",
       "    .dataframe thead th {\n",
       "        text-align: right;\n",
       "    }\n",
       "</style>\n",
       "<table border=\"1\" class=\"dataframe\">\n",
       "  <thead>\n",
       "    <tr style=\"text-align: right;\">\n",
       "      <th></th>\n",
       "      <th>Unnamed: 0</th>\n",
       "      <th>CountryCode</th>\n",
       "      <th>CountryName</th>\n",
       "      <th>IndicatorCode</th>\n",
       "      <th>IndicatorName</th>\n",
       "      <th>Value</th>\n",
       "      <th>Year</th>\n",
       "    </tr>\n",
       "  </thead>\n",
       "  <tbody>\n",
       "    <tr>\n",
       "      <th>6552224</th>\n",
       "      <td>6552224</td>\n",
       "      <td>ESP</td>\n",
       "      <td>Spain</td>\n",
       "      <td>NY.GDP.COAL.RT.ZS</td>\n",
       "      <td>Coal rents (% of GDP)</td>\n",
       "      <td>0.017663</td>\n",
       "      <td>1970</td>\n",
       "    </tr>\n",
       "    <tr>\n",
       "      <th>6552225</th>\n",
       "      <td>6552225</td>\n",
       "      <td>ESP</td>\n",
       "      <td>Spain</td>\n",
       "      <td>NY.GDP.COAL.RT.ZS</td>\n",
       "      <td>Coal rents (% of GDP)</td>\n",
       "      <td>0.019916</td>\n",
       "      <td>1971</td>\n",
       "    </tr>\n",
       "  </tbody>\n",
       "</table>\n",
       "</div>"
      ],
      "text/plain": [
       "         Unnamed: 0 CountryCode CountryName      IndicatorCode  \\\n",
       "6552224     6552224         ESP       Spain  NY.GDP.COAL.RT.ZS   \n",
       "6552225     6552225         ESP       Spain  NY.GDP.COAL.RT.ZS   \n",
       "\n",
       "                 IndicatorName     Value  Year  \n",
       "6552224  Coal rents (% of GDP)  0.017663  1970  \n",
       "6552225  Coal rents (% of GDP)  0.019916  1971  "
      ]
     },
     "execution_count": 23,
     "metadata": {},
     "output_type": "execute_result"
    }
   ],
   "source": [
    "gpd_stage.head(2)"
   ]
  },
  {
   "cell_type": "code",
   "execution_count": 24,
   "metadata": {},
   "outputs": [
    {
     "data": {
      "text/html": [
       "<div>\n",
       "<style scoped>\n",
       "    .dataframe tbody tr th:only-of-type {\n",
       "        vertical-align: middle;\n",
       "    }\n",
       "\n",
       "    .dataframe tbody tr th {\n",
       "        vertical-align: top;\n",
       "    }\n",
       "\n",
       "    .dataframe thead th {\n",
       "        text-align: right;\n",
       "    }\n",
       "</style>\n",
       "<table border=\"1\" class=\"dataframe\">\n",
       "  <thead>\n",
       "    <tr style=\"text-align: right;\">\n",
       "      <th></th>\n",
       "      <th>Unnamed: 0</th>\n",
       "      <th>CountryCode</th>\n",
       "      <th>CountryName</th>\n",
       "      <th>IndicatorCode</th>\n",
       "      <th>IndicatorName</th>\n",
       "      <th>Value</th>\n",
       "      <th>Year</th>\n",
       "    </tr>\n",
       "  </thead>\n",
       "  <tbody>\n",
       "    <tr>\n",
       "      <th>6551626</th>\n",
       "      <td>6551626</td>\n",
       "      <td>ESP</td>\n",
       "      <td>Spain</td>\n",
       "      <td>EN.ATM.CO2E.PC</td>\n",
       "      <td>CO2 emissions (metric tons per capita)</td>\n",
       "      <td>2.897102</td>\n",
       "      <td>1969</td>\n",
       "    </tr>\n",
       "    <tr>\n",
       "      <th>6551627</th>\n",
       "      <td>6551627</td>\n",
       "      <td>ESP</td>\n",
       "      <td>Spain</td>\n",
       "      <td>EN.ATM.CO2E.PC</td>\n",
       "      <td>CO2 emissions (metric tons per capita)</td>\n",
       "      <td>3.457970</td>\n",
       "      <td>1970</td>\n",
       "    </tr>\n",
       "  </tbody>\n",
       "</table>\n",
       "</div>"
      ],
      "text/plain": [
       "         Unnamed: 0 CountryCode CountryName   IndicatorCode  \\\n",
       "6551626     6551626         ESP       Spain  EN.ATM.CO2E.PC   \n",
       "6551627     6551627         ESP       Spain  EN.ATM.CO2E.PC   \n",
       "\n",
       "                                  IndicatorName     Value  Year  \n",
       "6551626  CO2 emissions (metric tons per capita)  2.897102  1969  \n",
       "6551627  CO2 emissions (metric tons per capita)  3.457970  1970  "
      ]
     },
     "execution_count": 24,
     "metadata": {},
     "output_type": "execute_result"
    }
   ],
   "source": [
    "stage.head(2)"
   ]
  },
  {
   "cell_type": "code",
   "execution_count": 25,
   "metadata": {},
   "outputs": [
    {
     "data": {
      "image/png": "[encoded data removed]",
      "text/plain": [
       "<Figure size 432x288 with 1 Axes>"
      ]
     },
     "metadata": {
      "needs_background": "light"
     },
     "output_type": "display_data"
    }
   ],
   "source": [
    "# switch to a Line plt\n",
    "plt.plot(gpd_stage['Year'].values, gpd_stage['Value'].values)\n",
    "\n",
    "# Label the axes\n",
    "plt.xlabel('Year')\n",
    "plt.ylabel(gpd_stage['IndicatorName'].iloc[0])\n",
    "\n",
    "# Label the figure\n",
    "plt.title('GPD Per Capita SPAIN')\n",
    "\n",
    "# to make more honest, start they y axis at 0\n",
    "# plt.axis([1969, 2012, 0, 25])\n",
    "\n",
    "plt.show()"
   ]
  },
  {
   "cell_type": "markdown",
   "metadata": {},
   "source": [
    "### ScatterPlot for comparing GPD against CO2 emissions per capita"
   ]
  },
  {
   "cell_type": "markdown",
   "metadata": {},
   "source": [
    "First, we will need to make sure we are looking at the same times frames"
   ]
  },
  {
   "cell_type": "code",
   "execution_count": 26,
   "metadata": {},
   "outputs": [
    {
     "name": "stdout",
     "output_type": "stream",
     "text": [
      "GPD min year = 1970, and the max year = 2016\n",
      "CO2 min year = 1969, and the max year = 2014\n"
     ]
    }
   ],
   "source": [
    "print(\"GPD min year = {0}, and the max year = {1}\".format(gpd_stage['Year'].min(), gpd_stage['Year'].max()))\n",
    "print(\"CO2 min year = {0}, and the max year = {1}\".format(stage['Year'].min(), stage['Year'].max()))"
   ]
  },
  {
   "cell_type": "markdown",
   "metadata": {},
   "source": [
    "We need both GPD and CO2 values have equal length"
   ]
  },
  {
   "cell_type": "code",
   "execution_count": 27,
   "metadata": {},
   "outputs": [
    {
     "name": "stdout",
     "output_type": "stream",
     "text": [
      "45\n",
      "45\n"
     ]
    }
   ],
   "source": [
    "gpd_stage_trunc = gpd_stage[gpd_stage['Year'] < 2015]\n",
    "co2_stage_trunc = stage[stage['Year'] > 1969]\n",
    "print(len(gpd_stage_trunc))\n",
    "print(len(co2_stage_trunc))"
   ]
  },
  {
   "cell_type": "code",
   "execution_count": 28,
   "metadata": {},
   "outputs": [
    {
     "name": "stdout",
     "output_type": "stream",
     "text": [
      "GPD min year = 1970, and the max year = 2014\n",
      "CO2 min year = 1970, and the max year = 2014\n"
     ]
    }
   ],
   "source": [
    "print(\"GPD min year = {0}, and the max year = {1}\".format(\n",
    "    gpd_stage_trunc['Year'].min(),\n",
    "    gpd_stage_trunc['Year'].max()))\n",
    "print(\"CO2 min year = {0}, and the max year = {1}\".format(\n",
    "    co2_stage_trunc['Year'].min(),\n",
    "    co2_stage_trunc['Year'].max()))"
   ]
  },
  {
   "cell_type": "code",
   "execution_count": 29,
   "metadata": {},
   "outputs": [
    {
     "data": {
      "image/png": "[encoded data removed]",
      "text/plain": [
       "<Figure size 432x288 with 1 Axes>"
      ]
     },
     "metadata": {
      "needs_background": "light"
     },
     "output_type": "display_data"
    }
   ],
   "source": [
    "%matplotlib inline\n",
    "import matplotlib.pyplot as plt\n",
    "\n",
    "fig, axis = plt.subplots()\n",
    "axis.yaxis.grid(True)\n",
    "axis.set_title('CO2 Emissions vs. GPD \\(per capita\\)', fontsize=10)\n",
    "axis.set_xlabel(gpd_stage_trunc['IndicatorName'].iloc[0], fontsize=10)\n",
    "axis.set_ylabel(co2_stage_trunc['IndicatorName'].iloc[0], fontsize=10)\n",
    "\n",
    "X = gpd_stage_trunc['Value']\n",
    "Y = co2_stage_trunc['Value']\n",
    "\n",
    "axis.scatter(X, Y)\n",
    "plt.show()"
   ]
  },
  {
   "cell_type": "markdown",
   "metadata": {},
   "source": [
    "Test the correlation"
   ]
  },
  {
   "cell_type": "code",
   "execution_count": 30,
   "metadata": {},
   "outputs": [
    {
     "data": {
      "text/plain": [
       "array([[ 1.        , -0.19294496],\n",
       "       [-0.19294496,  1.        ]])"
      ]
     },
     "execution_count": 30,
     "metadata": {},
     "output_type": "execute_result"
    }
   ],
   "source": [
    "np.corrcoef(gpd_stage_trunc['Value'], co2_stage_trunc['Value'])"
   ]
  }
 ],
 "metadata": {
  "kernelspec": {
   "display_name": "Python 3",
   "language": "python",
   "name": "python3"
  },
  "language_info": {
   "codemirror_mode": {
    "name": "ipython",
    "version": 3
   },
   "file_extension": ".py",
   "mimetype": "text/x-python",
   "name": "python",
   "nbconvert_exporter": "python",
   "pygments_lexer": "ipython3",
   "version": "3.6.5"
  }
 },
 "nbformat": 4,
 "nbformat_minor": 2
}
